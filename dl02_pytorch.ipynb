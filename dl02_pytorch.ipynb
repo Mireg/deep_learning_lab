{
  "cells": [
    {
      "cell_type": "markdown",
      "metadata": {
        "id": "hERYYPNZ92-D"
      },
      "source": [
        "# Deep Learning\n",
        "<table align=\"left\">\n",
        "  <td>\n",
        "    <a href=\"https://colab.research.google.com/github/marcinsawinski/UEP_KIE_DL_CODE2024/blob/main/dl02_pytorch.ipynb\" target=\"_parent\"><img src=\"https://colab.research.google.com/assets/colab-badge.svg\" alt=\"Open In Colab\"/></a>\n",
        "  </td>\n",
        "</table>"
      ]
    },
    {
      "cell_type": "markdown",
      "metadata": {
        "id": "n76N7GE_92-G"
      },
      "source": [
        "# Quickstart tutorial\n",
        "https://pytorch.org/tutorials/beginner/basics/quickstart_tutorial.\n",
        "\n",
        "## Working with data\n",
        "\n",
        "PyTorch has two primitives to work with data: torch.utils.data.DataLoader and torch.utils.data.Dataset. Dataset stores the samples and their corresponding labels, and DataLoader wraps an iterable around the Dataset."
      ]
    },
    {
      "cell_type": "code",
      "execution_count": 87,
      "metadata": {
        "id": "WYROTXV892-H"
      },
      "outputs": [],
      "source": [
        "import torch\n",
        "from torch import nn\n",
        "from torch.utils.data import DataLoader, Dataset\n",
        "from torchvision import datasets\n",
        "from torchvision.transforms import ToTensor"
      ]
    },
    {
      "cell_type": "markdown",
      "metadata": {
        "id": "b_82t2qo92-J"
      },
      "source": [
        "The torchvision.datasets module contains Dataset objects for many real-world vision data like CIFAR, COCO (full list here). In this tutorial, we use the FashionMNIST dataset. Every TorchVision Dataset includes two arguments: transform and target_transform to modify the samples and labels respectively."
      ]
    },
    {
      "cell_type": "code",
      "execution_count": 88,
      "metadata": {
        "id": "GQJvnTL492-K"
      },
      "outputs": [],
      "source": [
        "# Download training data from open datasets.\n",
        "training_data = datasets.FashionMNIST(\n",
        "    root=\"data\",\n",
        "    train=True,\n",
        "    download=True,\n",
        "    transform=ToTensor(),\n",
        ")\n",
        "\n",
        "# Download test data from open datasets.\n",
        "test_data = datasets.FashionMNIST(\n",
        "    root=\"data\",\n",
        "    train=False,\n",
        "    download=True,\n",
        "    transform=ToTensor(),\n",
        ")"
      ]
    },
    {
      "cell_type": "markdown",
      "metadata": {
        "id": "H86-u8K792-L"
      },
      "source": [
        "We pass the Dataset as an argument to DataLoader. This wraps an iterable over our dataset, and supports automatic batching, sampling, shuffling and multiprocess data loading. Here we define a batch size of 64, i.e. each element in the dataloader iterable will return a batch of 64 features and labels."
      ]
    },
    {
      "cell_type": "code",
      "execution_count": 89,
      "metadata": {
        "id": "BPVzp2_E92-L",
        "outputId": "9263026b-942b-43cd-de74-d99940888b45",
        "colab": {
          "base_uri": "https://localhost:8080/"
        }
      },
      "outputs": [
        {
          "output_type": "stream",
          "name": "stdout",
          "text": [
            "Shape of X [N, C, H, W]: torch.Size([64, 1, 28, 28])\n",
            "Shape of y: torch.Size([64]) torch.int64\n"
          ]
        }
      ],
      "source": [
        "batch_size = 64\n",
        "\n",
        "# Create data loaders.\n",
        "train_dataloader = DataLoader(training_data, batch_size=batch_size)\n",
        "test_dataloader = DataLoader(test_data, batch_size=batch_size)\n",
        "\n",
        "for X, y in test_dataloader:\n",
        "    print(f\"Shape of X [N, C, H, W]: {X.shape}\")\n",
        "    print(f\"Shape of y: {y.shape} {y.dtype}\")\n",
        "    break"
      ]
    },
    {
      "cell_type": "markdown",
      "metadata": {
        "id": "Csqnjytw92-N"
      },
      "source": [
        "## Creating Models"
      ]
    },
    {
      "cell_type": "markdown",
      "metadata": {
        "id": "pFCQprmO92-N"
      },
      "source": [
        "To define a neural network in PyTorch, we create a class that inherits from nn.Module. We define the layers of the network in the __init__ function and specify how data will pass through the network in the forward function. To accelerate operations in the neural network, we move it to the accelerator such as CUDA, MPS, MTIA, or XPU. If the current accelerator is available, we will use it. Otherwise, we use the CPU."
      ]
    },
    {
      "cell_type": "code",
      "execution_count": 90,
      "metadata": {
        "id": "zBrAnVXY92-P",
        "outputId": "e04cd7db-4bda-4c94-cc39-3b20da87bc1d",
        "colab": {
          "base_uri": "https://localhost:8080/"
        }
      },
      "outputs": [
        {
          "output_type": "stream",
          "name": "stdout",
          "text": [
            "Using cpu device\n",
            "NeuralNetwork(\n",
            "  (flatten): Flatten(start_dim=1, end_dim=-1)\n",
            "  (linear_relu_stack): Sequential(\n",
            "    (0): Linear(in_features=784, out_features=512, bias=True)\n",
            "    (1): ReLU()\n",
            "    (2): Linear(in_features=512, out_features=512, bias=True)\n",
            "    (3): ReLU()\n",
            "    (4): Linear(in_features=512, out_features=10, bias=True)\n",
            "  )\n",
            ")\n"
          ]
        }
      ],
      "source": [
        "device = (\n",
        "    torch.accelerator.current_accelerator().type\n",
        "    if torch.accelerator.is_available()\n",
        "    else \"cpu\"\n",
        ")\n",
        "print(f\"Using {device} device\")\n",
        "\n",
        "\n",
        "# Define model\n",
        "class NeuralNetwork(nn.Module):\n",
        "    def __init__(self):\n",
        "        super().__init__()\n",
        "        self.flatten = nn.Flatten()\n",
        "        self.linear_relu_stack = nn.Sequential(\n",
        "            nn.Linear(28 * 28, 512),\n",
        "            nn.ReLU(),\n",
        "            nn.Linear(512, 512),\n",
        "            nn.ReLU(),\n",
        "            nn.Linear(512, 10),\n",
        "        )\n",
        "\n",
        "    def forward(self, x):\n",
        "        x = self.flatten(x)\n",
        "        logits = self.linear_relu_stack(x)\n",
        "        return logits\n",
        "\n",
        "\n",
        "model = NeuralNetwork().to(device)\n",
        "print(model)"
      ]
    },
    {
      "cell_type": "markdown",
      "metadata": {
        "id": "WB1COx4592-Q"
      },
      "source": [
        "## Optimizing the Model Parameters\n",
        "\n",
        "To train a model, we need a loss function and an optimizer."
      ]
    },
    {
      "cell_type": "code",
      "execution_count": 91,
      "metadata": {
        "id": "Iy9_0cjJ92-Q"
      },
      "outputs": [],
      "source": [
        "loss_fn = nn.CrossEntropyLoss()\n",
        "optimizer = torch.optim.SGD(model.parameters(), lr=1e-3)"
      ]
    },
    {
      "cell_type": "markdown",
      "metadata": {
        "id": "enS8Sdqb92-R"
      },
      "source": [
        "In a single training loop, the model makes predictions on the training dataset (fed to it in batches), and backpropagates the prediction error to adjust the model’s parameters."
      ]
    },
    {
      "cell_type": "code",
      "execution_count": 92,
      "metadata": {
        "id": "IsNbK1SQ92-R"
      },
      "outputs": [],
      "source": [
        "def train(dataloader, model, loss_fn, optimizer):\n",
        "    size = len(dataloader.dataset)\n",
        "    model.train()\n",
        "    for batch, (X, y) in enumerate(dataloader):\n",
        "        X, y = X.to(device), y.to(device)\n",
        "\n",
        "        # Compute prediction error\n",
        "        pred = model(X)\n",
        "        loss = loss_fn(pred, y)\n",
        "\n",
        "        # Backpropagation\n",
        "        loss.backward()\n",
        "        optimizer.step()\n",
        "        optimizer.zero_grad()\n",
        "\n",
        "        if batch % 100 == 0:\n",
        "            loss, current = loss.item(), (batch + 1) * len(X)\n",
        "            print(f\"loss: {loss:>7f}  [{current:>5d}/{size:>5d}]\")"
      ]
    },
    {
      "cell_type": "markdown",
      "metadata": {
        "id": "8QLBC2Mq92-S"
      },
      "source": [
        "We also check the model’s performance against the test dataset to ensure it is learning."
      ]
    },
    {
      "cell_type": "code",
      "execution_count": 93,
      "metadata": {
        "id": "fVacyM8X92-S"
      },
      "outputs": [],
      "source": [
        "def test(dataloader, model, loss_fn):\n",
        "    size = len(dataloader.dataset)\n",
        "    num_batches = len(dataloader)\n",
        "    model.eval()\n",
        "    test_loss, correct = 0, 0\n",
        "    with torch.no_grad():\n",
        "        for X, y in dataloader:\n",
        "            X, y = X.to(device), y.to(device)\n",
        "            pred = model(X)\n",
        "            test_loss += loss_fn(pred, y).item()\n",
        "            correct += (pred.argmax(1) == y).type(torch.float).sum().item()\n",
        "    test_loss /= num_batches\n",
        "    correct /= size\n",
        "    print(\n",
        "        f\"Test Error: \\n Accuracy: {(100*correct):>0.1f}%, Avg loss: {test_loss:>8f} \\n\"\n",
        "    )"
      ]
    },
    {
      "cell_type": "markdown",
      "metadata": {
        "id": "J2DOVOHD92-T"
      },
      "source": [
        "The training process is conducted over several iterations (epochs). During each epoch, the model learns parameters to make better predictions. We print the model’s accuracy and loss at each epoch; we’d like to see the accuracy increase and the loss decrease with every epoch."
      ]
    },
    {
      "cell_type": "code",
      "execution_count": 94,
      "metadata": {
        "id": "TfOzd78F92-T",
        "outputId": "814530f9-5923-457e-d4d6-7945c4afb89e",
        "colab": {
          "base_uri": "https://localhost:8080/"
        }
      },
      "outputs": [
        {
          "output_type": "stream",
          "name": "stdout",
          "text": [
            "Epoch 1\n",
            "-------------------------------\n",
            "loss: 2.321805  [   64/60000]\n",
            "loss: 2.303021  [ 6464/60000]\n",
            "loss: 2.281991  [12864/60000]\n",
            "loss: 2.265954  [19264/60000]\n",
            "loss: 2.247685  [25664/60000]\n",
            "loss: 2.229827  [32064/60000]\n",
            "loss: 2.237078  [38464/60000]\n",
            "loss: 2.210865  [44864/60000]\n",
            "loss: 2.207241  [51264/60000]\n",
            "loss: 2.163140  [57664/60000]\n",
            "Test Error: \n",
            " Accuracy: 36.3%, Avg loss: 2.163691 \n",
            "\n",
            "Epoch 2\n",
            "-------------------------------\n",
            "loss: 2.187979  [   64/60000]\n",
            "loss: 2.171305  [ 6464/60000]\n",
            "loss: 2.116542  [12864/60000]\n",
            "loss: 2.124376  [19264/60000]\n",
            "loss: 2.069546  [25664/60000]\n",
            "loss: 2.027903  [32064/60000]\n",
            "loss: 2.054025  [38464/60000]\n",
            "loss: 1.981510  [44864/60000]\n",
            "loss: 1.987520  [51264/60000]\n",
            "loss: 1.907061  [57664/60000]\n",
            "Test Error: \n",
            " Accuracy: 50.4%, Avg loss: 1.906586 \n",
            "\n",
            "Epoch 3\n",
            "-------------------------------\n",
            "loss: 1.954411  [   64/60000]\n",
            "loss: 1.916842  [ 6464/60000]\n",
            "loss: 1.803972  [12864/60000]\n",
            "loss: 1.831828  [19264/60000]\n",
            "loss: 1.717695  [25664/60000]\n",
            "loss: 1.687354  [32064/60000]\n",
            "loss: 1.704929  [38464/60000]\n",
            "loss: 1.606089  [44864/60000]\n",
            "loss: 1.632595  [51264/60000]\n",
            "loss: 1.522436  [57664/60000]\n",
            "Test Error: \n",
            " Accuracy: 58.4%, Avg loss: 1.537286 \n",
            "\n",
            "Epoch 4\n",
            "-------------------------------\n",
            "loss: 1.618722  [   64/60000]\n",
            "loss: 1.573894  [ 6464/60000]\n",
            "loss: 1.423575  [12864/60000]\n",
            "loss: 1.482997  [19264/60000]\n",
            "loss: 1.361711  [25664/60000]\n",
            "loss: 1.372450  [32064/60000]\n",
            "loss: 1.380968  [38464/60000]\n",
            "loss: 1.304605  [44864/60000]\n",
            "loss: 1.340368  [51264/60000]\n",
            "loss: 1.239355  [57664/60000]\n",
            "Test Error: \n",
            " Accuracy: 62.7%, Avg loss: 1.264970 \n",
            "\n",
            "Epoch 5\n",
            "-------------------------------\n",
            "loss: 1.355061  [   64/60000]\n",
            "loss: 1.327622  [ 6464/60000]\n",
            "loss: 1.161673  [12864/60000]\n",
            "loss: 1.255739  [19264/60000]\n",
            "loss: 1.130178  [25664/60000]\n",
            "loss: 1.167919  [32064/60000]\n",
            "loss: 1.182336  [38464/60000]\n",
            "loss: 1.121832  [44864/60000]\n",
            "loss: 1.159599  [51264/60000]\n",
            "loss: 1.076129  [57664/60000]\n",
            "Test Error: \n",
            " Accuracy: 64.5%, Avg loss: 1.097592 \n",
            "\n",
            "Done!\n"
          ]
        }
      ],
      "source": [
        "epochs = 5\n",
        "for t in range(epochs):\n",
        "    print(f\"Epoch {t+1}\\n-------------------------------\")\n",
        "    train(train_dataloader, model, loss_fn, optimizer)\n",
        "    test(test_dataloader, model, loss_fn)\n",
        "print(\"Done!\")"
      ]
    },
    {
      "cell_type": "markdown",
      "metadata": {
        "id": "rMjWLQaW92-T"
      },
      "source": [
        "## Saving Models\n",
        "\n",
        "A common way to save a model is to serialize the internal state dictionary (containing the model parameters).\n",
        "\n"
      ]
    },
    {
      "cell_type": "code",
      "execution_count": 95,
      "metadata": {
        "id": "ch4rQ_et92-U",
        "outputId": "3f9fa307-9db8-4c9f-a029-827c464669b3",
        "colab": {
          "base_uri": "https://localhost:8080/"
        }
      },
      "outputs": [
        {
          "output_type": "stream",
          "name": "stdout",
          "text": [
            "Saved PyTorch Model State to model.pth\n"
          ]
        }
      ],
      "source": [
        "torch.save(model.state_dict(), \"model.pth\")\n",
        "print(\"Saved PyTorch Model State to model.pth\")"
      ]
    },
    {
      "cell_type": "markdown",
      "metadata": {
        "id": "xvzCq52P92-U"
      },
      "source": [
        "## Loading Models\n",
        "\n",
        "The process for loading a model includes re-creating the model structure and loading the state dictionary into it."
      ]
    },
    {
      "cell_type": "code",
      "execution_count": 96,
      "metadata": {
        "id": "NLFZqvBf92-V",
        "outputId": "e032b827-6695-415a-cb3c-6201fd7ec3f1",
        "colab": {
          "base_uri": "https://localhost:8080/"
        }
      },
      "outputs": [
        {
          "output_type": "execute_result",
          "data": {
            "text/plain": [
              "<All keys matched successfully>"
            ]
          },
          "metadata": {},
          "execution_count": 96
        }
      ],
      "source": [
        "model = NeuralNetwork().to(device)\n",
        "model.load_state_dict(torch.load(\"model.pth\", weights_only=True))"
      ]
    },
    {
      "cell_type": "markdown",
      "metadata": {
        "id": "znraavYP92-V"
      },
      "source": [
        "This model can now be used to make predictions."
      ]
    },
    {
      "cell_type": "code",
      "execution_count": 97,
      "metadata": {
        "id": "hpH_amfC92-V",
        "outputId": "52b233b1-7d1f-4f7f-ff32-9aafc765c439",
        "colab": {
          "base_uri": "https://localhost:8080/"
        }
      },
      "outputs": [
        {
          "output_type": "stream",
          "name": "stdout",
          "text": [
            "Predicted: \"Ankle boot\", Actual: \"Ankle boot\"\n"
          ]
        }
      ],
      "source": [
        "classes = [\n",
        "    \"T-shirt/top\",\n",
        "    \"Trouser\",\n",
        "    \"Pullover\",\n",
        "    \"Dress\",\n",
        "    \"Coat\",\n",
        "    \"Sandal\",\n",
        "    \"Shirt\",\n",
        "    \"Sneaker\",\n",
        "    \"Bag\",\n",
        "    \"Ankle boot\",\n",
        "]\n",
        "\n",
        "model.eval()\n",
        "x, y = test_data[0][0], test_data[0][1]\n",
        "with torch.no_grad():\n",
        "    x = x.to(device)\n",
        "    pred = model(x)\n",
        "    predicted, actual = classes[pred[0].argmax(0)], classes[y]\n",
        "    print(f'Predicted: \"{predicted}\", Actual: \"{actual}\"')"
      ]
    },
    {
      "cell_type": "markdown",
      "metadata": {
        "id": "9YP9YCuh92-W"
      },
      "source": [
        "---\n",
        "\n",
        "\n",
        "# Helpers - just run it, no need to read it.\n",
        "- Generate 4 simple datasets\n",
        "- Functions for visualization"
      ]
    },
    {
      "cell_type": "code",
      "execution_count": 98,
      "metadata": {
        "id": "aJOuJmcM92-X",
        "outputId": "1bf292c0-4eb7-48c4-feaf-d5d55e74176f",
        "colab": {
          "base_uri": "https://localhost:8080/",
          "height": 314
        }
      },
      "outputs": [
        {
          "output_type": "display_data",
          "data": {
            "text/plain": [
              "<Figure size 1500x300 with 4 Axes>"
            ],
            "image/png": "[encoded data removed]"
          },
          "metadata": {}
        }
      ],
      "source": [
        "import numpy as np\n",
        "import matplotlib.pyplot as plt\n",
        "from matplotlib.colors import ListedColormap\n",
        "from sklearn.datasets import make_moons, make_circles, make_classification\n",
        "from sklearn.preprocessing import StandardScaler\n",
        "\n",
        "# Constants\n",
        "N_SAMPLES = 1000\n",
        "RANDOM_STATE = 1\n",
        "TEST_SIZE = 0.2\n",
        "CM_BRIGHT = ListedColormap([\"#FF0000\", \"#0000FF\"])\n",
        "LINEARLY_SEPARABLE_DISTANCE = 5\n",
        "\n",
        "\n",
        "def make_linearly_separable(n_samples=100, random_state=42):\n",
        "    \"\"\"Generates linearly separable data.\"\"\"\n",
        "    np.random.seed(random_state)\n",
        "    class_size = n_samples // 2\n",
        "    X1 = np.round(np.random.normal(0, 1, (class_size, 2)), 1)\n",
        "    X2 = np.round(np.random.normal(0, 1, (class_size, 2)), 1) + [9, 1]\n",
        "    X = np.vstack((X1, X2))\n",
        "    y = np.hstack((np.zeros(class_size), np.ones(class_size)))\n",
        "    perm = np.random.permutation(len(X))\n",
        "    X, y = X[perm], y[perm]\n",
        "    return X, y\n",
        "\n",
        "\n",
        "def generate_datasets():\n",
        "    \"\"\"Generates datasets including an additional linearly separable dataset.\"\"\"\n",
        "    datasets = {\n",
        "        \"linearly_separable\": make_linearly_separable(\n",
        "            n_samples=N_SAMPLES,\n",
        "            random_state=RANDOM_STATE,\n",
        "        ),\n",
        "        \"moons\": make_moons(noise=0.1, random_state=RANDOM_STATE, n_samples=N_SAMPLES),\n",
        "        \"circles\": make_circles(\n",
        "            noise=0.1, factor=0.4, random_state=RANDOM_STATE, n_samples=N_SAMPLES\n",
        "        ),\n",
        "        \"clusters\": make_classification(\n",
        "            n_features=2,\n",
        "            n_redundant=0,\n",
        "            n_informative=2,\n",
        "            random_state=RANDOM_STATE,\n",
        "            n_clusters_per_class=1,\n",
        "            n_samples=N_SAMPLES,\n",
        "        ),\n",
        "    }\n",
        "    # scale X\n",
        "    scaled_datasets = {}\n",
        "    for name, (X, y) in datasets.items():\n",
        "        X_scaled = StandardScaler().fit_transform(X)\n",
        "        scaled_datasets[name] = (X_scaled.astype(np.float32), y.astype(np.float32))\n",
        "    return scaled_datasets\n",
        "\n",
        "\n",
        "def plot_datasets(datasets):\n",
        "    \"\"\"Plots training and test sets for all datasets.\"\"\"\n",
        "    _, axs = plt.subplots(1, len(datasets), figsize=(15, 3))\n",
        "\n",
        "    for i, (name, data) in enumerate(datasets.items()):\n",
        "        X, y = data\n",
        "        axs[i].scatter(\n",
        "            X[:, 0],\n",
        "            X[:, 1],\n",
        "            c=y,\n",
        "            cmap=CM_BRIGHT,\n",
        "            alpha=0.5,\n",
        "        )\n",
        "        axs[i].set_title(name)\n",
        "    plt.show()\n",
        "\n",
        "\n",
        "datasets = generate_datasets()\n",
        "plot_datasets(datasets)"
      ]
    },
    {
      "cell_type": "markdown",
      "metadata": {
        "id": "W8trHaAQ92-Y"
      },
      "source": [
        "---\n",
        "# Datasets and dataloaders"
      ]
    },
    {
      "cell_type": "code",
      "execution_count": 99,
      "metadata": {
        "id": "Hi42GFaT92-Y"
      },
      "outputs": [],
      "source": [
        "import torch\n",
        "from torch import nn\n",
        "import torch.optim as optim\n",
        "from torch.utils.data import DataLoader, Dataset, TensorDataset\n",
        "from torchvision.transforms import ToTensor\n",
        "import torchmetrics\n",
        "import numpy as np\n",
        "import matplotlib.pyplot as plt\n",
        "from IPython.display import display, clear_output\n",
        "from sklearn.model_selection import train_test_split\n",
        "\n",
        "\n",
        "# Load dataset\n",
        "ds = \"circles\"\n",
        "X, y = datasets[ds]\n",
        "X_train, X_test, y_train, y_test = train_test_split(\n",
        "    X, y, test_size=TEST_SIZE, random_state=RANDOM_STATE\n",
        ")\n",
        "\n",
        "X_train_tensor = torch.tensor(X_train, dtype=torch.float32)\n",
        "y_train_tensor = torch.tensor(y_train.reshape(-1, 1), dtype=torch.float32)\n",
        "\n",
        "X_test_tensor = torch.tensor(X_test, dtype=torch.float32)\n",
        "y_test_tensor = torch.tensor(y_test.reshape(-1, 1), dtype=torch.float32)\n",
        "\n",
        "# or\n",
        "\n",
        "# X_train_tensor = torch.from_numpy(X_train)\n",
        "# y_train_tensor = torch.from_numpy(y_train.reshape(-1, 1))\n",
        "\n",
        "# X_test_tensor = torch.from_numpy(X_test)\n",
        "# y_test_tensor = torch.from_numpy(y_test.reshape(-1, 1))\n",
        "\n",
        "training_data = TensorDataset(X_train_tensor, y_train_tensor)\n",
        "test_data = TensorDataset(X_test_tensor, y_test_tensor)\n",
        "\n",
        "batch_size = 32  # adjust this according to your needs\n",
        "\n",
        "train_dataloader = DataLoader(training_data, batch_size=batch_size, shuffle=True)\n",
        "test_dataloader = DataLoader(test_data, batch_size=batch_size, shuffle=False)\n",
        "\n",
        "# Check for GPU availability\n",
        "device = torch.device(\"cuda\" if torch.cuda.is_available() else \"cpu\")"
      ]
    },
    {
      "cell_type": "markdown",
      "metadata": {
        "id": "JfIkc0LJ92-Y"
      },
      "source": [
        "---\n",
        "\n",
        "# Excercise 1: Multilayer Perceptron with Torch\n",
        "\n",
        "\n",
        " Your task is to implement a simple **Multi-Layer Perceptron** (MLP) with Pytorch.\n",
        "1. Split generated datasets to train/test and convert to torch.utils.data.Dataset and  torch.utils.data.DataLoader objects\n",
        "2. Define model\n",
        " - Start with  **1 hidden layer**, later experiment with more hidden layers.\n",
        " - Start with `nn.Sigmoid()` activation. for hidden layers. Try `nn.ReLU`, `nn.Tanh`. See: https://pytorch.org/docs/stable/nn.html#non-linear-activations-weighted-sum-nonlinearity\n",
        " - Training should be implemented with **binary cross-entropy** loss function. Try 2 options:\n",
        "    - 'loss_fn = nn.BCELoss()' with output layer ending with sigmoid activation\n",
        "    - 'loss_fn = nn.BCEWithLogitsLoss()' with output layer ending with logits (no activation).\n",
        "    Compare which works better?\n",
        "    NOTE. When implementing test loop you apply sigmoid to predictions before gettgin predicted class\n",
        "        ```\n",
        "        pred = model(X)\n",
        "        prob = torch.sigmoid(pred)\n",
        "        predicted_classes = (prob > 0.5).float()\n",
        "        ```\n",
        "3. Define training methods\n",
        " - Try various optimizers and learning rates. Start with `torch.optim.SGD` then try `torch.optim.Adam`\n",
        " - Try diffrent devcices CUDA/MPS and CPU\n",
        "    ```\n",
        "    device = (torch.accelerator.current_accelerator().type\n",
        "    if torch.accelerator.is_available()\n",
        "    else \"cpu\")\n",
        "    ```\n",
        "- Incorporate metrics from `torchmetrics`. Replace manual accuracy calculation with `torchmetrics.Accuracy(task=\"binary\")`. Add F1 Score."
      ]
    },
    {
      "cell_type": "markdown",
      "metadata": {
        "id": "RSyLksFq92-Z"
      },
      "source": [
        "## Put your code below\n"
      ]
    },
    {
      "cell_type": "code",
      "source": [
        "!pip install torchmetrics"
      ],
      "metadata": {
        "id": "46jf5orxI7R6",
        "outputId": "dfdea794-548b-484f-d43f-ca20275ce1eb",
        "colab": {
          "base_uri": "https://localhost:8080/"
        }
      },
      "execution_count": 102,
      "outputs": [
        {
          "output_type": "stream",
          "name": "stdout",
          "text": [
            "Requirement already satisfied: torchmetrics in /usr/local/lib/python3.11/dist-packages (1.7.0)\n",
            "Requirement already satisfied: numpy>1.20.0 in /usr/local/lib/python3.11/dist-packages (from torchmetrics) (2.0.2)\n",
            "Requirement already satisfied: packaging>17.1 in /usr/local/lib/python3.11/dist-packages (from torchmetrics) (24.2)\n",
            "Requirement already satisfied: torch>=2.0.0 in /usr/local/lib/python3.11/dist-packages (from torchmetrics) (2.6.0+cu124)\n",
            "Requirement already satisfied: lightning-utilities>=0.8.0 in /usr/local/lib/python3.11/dist-packages (from torchmetrics) (0.14.2)\n",
            "Requirement already satisfied: setuptools in /usr/local/lib/python3.11/dist-packages (from lightning-utilities>=0.8.0->torchmetrics) (75.1.0)\n",
            "Requirement already satisfied: typing_extensions in /usr/local/lib/python3.11/dist-packages (from lightning-utilities>=0.8.0->torchmetrics) (4.12.2)\n",
            "Requirement already satisfied: filelock in /usr/local/lib/python3.11/dist-packages (from torch>=2.0.0->torchmetrics) (3.18.0)\n",
            "Requirement already satisfied: networkx in /usr/local/lib/python3.11/dist-packages (from torch>=2.0.0->torchmetrics) (3.4.2)\n",
            "Requirement already satisfied: jinja2 in /usr/local/lib/python3.11/dist-packages (from torch>=2.0.0->torchmetrics) (3.1.6)\n",
            "Requirement already satisfied: fsspec in /usr/local/lib/python3.11/dist-packages (from torch>=2.0.0->torchmetrics) (2025.3.0)\n",
            "Requirement already satisfied: nvidia-cuda-nvrtc-cu12==12.4.127 in /usr/local/lib/python3.11/dist-packages (from torch>=2.0.0->torchmetrics) (12.4.127)\n",
            "Requirement already satisfied: nvidia-cuda-runtime-cu12==12.4.127 in /usr/local/lib/python3.11/dist-packages (from torch>=2.0.0->torchmetrics) (12.4.127)\n",
            "Requirement already satisfied: nvidia-cuda-cupti-cu12==12.4.127 in /usr/local/lib/python3.11/dist-packages (from torch>=2.0.0->torchmetrics) (12.4.127)\n",
            "Requirement already satisfied: nvidia-cudnn-cu12==9.1.0.70 in /usr/local/lib/python3.11/dist-packages (from torch>=2.0.0->torchmetrics) (9.1.0.70)\n",
            "Requirement already satisfied: nvidia-cublas-cu12==12.4.5.8 in /usr/local/lib/python3.11/dist-packages (from torch>=2.0.0->torchmetrics) (12.4.5.8)\n",
            "Requirement already satisfied: nvidia-cufft-cu12==11.2.1.3 in /usr/local/lib/python3.11/dist-packages (from torch>=2.0.0->torchmetrics) (11.2.1.3)\n",
            "Requirement already satisfied: nvidia-curand-cu12==10.3.5.147 in /usr/local/lib/python3.11/dist-packages (from torch>=2.0.0->torchmetrics) (10.3.5.147)\n",
            "Requirement already satisfied: nvidia-cusolver-cu12==11.6.1.9 in /usr/local/lib/python3.11/dist-packages (from torch>=2.0.0->torchmetrics) (11.6.1.9)\n",
            "Requirement already satisfied: nvidia-cusparse-cu12==12.3.1.170 in /usr/local/lib/python3.11/dist-packages (from torch>=2.0.0->torchmetrics) (12.3.1.170)\n",
            "Requirement already satisfied: nvidia-cusparselt-cu12==0.6.2 in /usr/local/lib/python3.11/dist-packages (from torch>=2.0.0->torchmetrics) (0.6.2)\n",
            "Requirement already satisfied: nvidia-nccl-cu12==2.21.5 in /usr/local/lib/python3.11/dist-packages (from torch>=2.0.0->torchmetrics) (2.21.5)\n",
            "Requirement already satisfied: nvidia-nvtx-cu12==12.4.127 in /usr/local/lib/python3.11/dist-packages (from torch>=2.0.0->torchmetrics) (12.4.127)\n",
            "Requirement already satisfied: nvidia-nvjitlink-cu12==12.4.127 in /usr/local/lib/python3.11/dist-packages (from torch>=2.0.0->torchmetrics) (12.4.127)\n",
            "Requirement already satisfied: triton==3.2.0 in /usr/local/lib/python3.11/dist-packages (from torch>=2.0.0->torchmetrics) (3.2.0)\n",
            "Requirement already satisfied: sympy==1.13.1 in /usr/local/lib/python3.11/dist-packages (from torch>=2.0.0->torchmetrics) (1.13.1)\n",
            "Requirement already satisfied: mpmath<1.4,>=1.1.0 in /usr/local/lib/python3.11/dist-packages (from sympy==1.13.1->torch>=2.0.0->torchmetrics) (1.3.0)\n",
            "Requirement already satisfied: MarkupSafe>=2.0 in /usr/local/lib/python3.11/dist-packages (from jinja2->torch>=2.0.0->torchmetrics) (3.0.2)\n"
          ]
        }
      ]
    },
    {
      "cell_type": "code",
      "source": [
        "import torchmetrics"
      ],
      "metadata": {
        "id": "KB5SEpPwI_2T"
      },
      "execution_count": 103,
      "outputs": []
    },
    {
      "cell_type": "code",
      "source": [
        "device = torch.accelerator.current_accelerator().type if torch.accelerator.is_available() else \"cpu\"\n",
        "print(f\"Using {device} device\")\n",
        "\n",
        "class MLP_sigmoid(nn.Module):\n",
        "  def __init__(self):\n",
        "    super().__init__()\n",
        "    self.model = nn.Sequential(\n",
        "        nn.Linear(2, 16),\n",
        "        nn.ReLU(),\n",
        "        nn.Linear(16,1),\n",
        "    )\n",
        "\n",
        "  def forward(self, x):\n",
        "    x = self.model(x)\n",
        "    return torch.sigmoid(x)\n",
        "\n",
        "def train(dataloader, model, loss_fn, optimizer):\n",
        "    size = len(dataloader.dataset)\n",
        "    model.train()\n",
        "\n",
        "    accuracy = Accuracy(task=\"binary\").to(device)\n",
        "    f1 = F1Score(task=\"binary\").to(device)\n",
        "\n",
        "    for batch, (X, y) in enumerate(dataloader):\n",
        "        X, y = X.to(device), y.to(device)\n",
        "\n",
        "        pred = model(X)\n",
        "        loss = loss_fn(pred, y)\n",
        "\n",
        "        loss.backward()\n",
        "        optimizer.step()\n",
        "        optimizer.zero_grad()\n",
        "\n",
        "        predicted_classes = (torch.sigmoid(pred) > 0.5).float()\n",
        "        accuracy.update(predicted_classes, y.int())\n",
        "        f1.update(predicted_classes, y.int())\n",
        "        if batch % 100 == 0:\n",
        "            loss, current = loss.item(), (batch + 1) * len(X)\n",
        "            print(f\"loss: {loss:>7f}  [{current:>5d}/{size:>5d}]\")\n",
        "\n",
        "    print(f\"Train Accuracy: {accuracy.compute()*100:>0.1f}%\")\n",
        "    print(f\"Train F1 Score: {f1.compute()*100:>0.1f}%\")\n",
        "\n",
        "    accuracy.reset()\n",
        "    f1.reset()\n",
        "\n",
        "def test(dataloader, model, loss_fn):\n",
        "    size = len(dataloader.dataset)\n",
        "    num_batches = len(dataloader)\n",
        "    model.eval()\n",
        "    test_loss, correct = 0, 0\n",
        "\n",
        "    accuracy = Accuracy(task=\"binary\").to(device)\n",
        "    f1 = F1Score(task=\"binary\").to(device)\n",
        "\n",
        "    with torch.no_grad():\n",
        "        for X, y in dataloader:\n",
        "            X, y = X.to(device), y.to(device)\n",
        "            pred = model(X)\n",
        "            test_loss += loss_fn(pred, y).item()\n",
        "\n",
        "            predicted_classes = (pred > 0.5).float()\n",
        "            accuracy.update(predicted_classes, y.int())\n",
        "            f1.update(predicted_classes, y.int())\n",
        "\n",
        "    test_loss /= num_batches\n",
        "\n",
        "    print(f\"Test Error:\")\n",
        "    print(f\" Accuracy: {accuracy.compute()*100:>0.1f}%\")\n",
        "    print(f\" F1 Score: {f1.compute()*100:>0.1f}%\")\n",
        "    print(f\" Avg loss: {test_loss:>8f} \\n\")\n",
        "\n",
        "    accuracy.reset()\n",
        "    f1.reset()"
      ],
      "metadata": {
        "id": "xY2ORSomIwAY",
        "outputId": "1f8da6c2-d64c-4a67-8431-c66b6434dc84",
        "colab": {
          "base_uri": "https://localhost:8080/"
        }
      },
      "execution_count": 116,
      "outputs": [
        {
          "output_type": "stream",
          "name": "stdout",
          "text": [
            "Using cpu device\n"
          ]
        }
      ]
    },
    {
      "cell_type": "markdown",
      "metadata": {
        "id": "Z2leyyRP92-Z"
      },
      "source": [
        "### BCELoss"
      ]
    },
    {
      "cell_type": "code",
      "execution_count": 117,
      "metadata": {
        "id": "XXJ_7Tfb92-Z",
        "outputId": "9a49c68a-3f8c-4d35-9fb4-aa1b8a1da22e",
        "colab": {
          "base_uri": "https://localhost:8080/"
        }
      },
      "outputs": [
        {
          "output_type": "stream",
          "name": "stdout",
          "text": [
            "Epoch 1\n",
            "-------------------------------\n",
            "loss: 0.667277  [   32/  800]\n",
            "Train Accuracy: 49.6%\n",
            "Train F1 Score: 66.3%\n",
            "Test Error:\n",
            " Accuracy: 48.5%\n",
            " F1 Score: 0.0%\n",
            " Avg loss: 0.679423 \n",
            "\n",
            "Epoch 2\n",
            "-------------------------------\n",
            "loss: 0.692518  [   32/  800]\n",
            "Train Accuracy: 49.6%\n",
            "Train F1 Score: 66.3%\n",
            "Test Error:\n",
            " Accuracy: 48.5%\n",
            " F1 Score: 0.0%\n",
            " Avg loss: 0.673256 \n",
            "\n",
            "Epoch 3\n",
            "-------------------------------\n",
            "loss: 0.633280  [   32/  800]\n",
            "Train Accuracy: 49.6%\n",
            "Train F1 Score: 66.3%\n",
            "Test Error:\n",
            " Accuracy: 48.5%\n",
            " F1 Score: 0.0%\n",
            " Avg loss: 0.667833 \n",
            "\n",
            "Epoch 4\n",
            "-------------------------------\n",
            "loss: 0.643214  [   32/  800]\n",
            "Train Accuracy: 49.6%\n",
            "Train F1 Score: 66.3%\n",
            "Test Error:\n",
            " Accuracy: 48.5%\n",
            " F1 Score: 0.0%\n",
            " Avg loss: 0.662856 \n",
            "\n",
            "Epoch 5\n",
            "-------------------------------\n",
            "loss: 0.655655  [   32/  800]\n",
            "Train Accuracy: 49.6%\n",
            "Train F1 Score: 66.3%\n",
            "Test Error:\n",
            " Accuracy: 48.5%\n",
            " F1 Score: 0.0%\n",
            " Avg loss: 0.658208 \n",
            "\n",
            "Epoch 6\n",
            "-------------------------------\n",
            "loss: 0.687676  [   32/  800]\n",
            "Train Accuracy: 49.6%\n",
            "Train F1 Score: 66.3%\n",
            "Test Error:\n",
            " Accuracy: 48.5%\n",
            " F1 Score: 0.0%\n",
            " Avg loss: 0.653750 \n",
            "\n",
            "Epoch 7\n",
            "-------------------------------\n",
            "loss: 0.655704  [   32/  800]\n",
            "Train Accuracy: 49.6%\n",
            "Train F1 Score: 66.3%\n",
            "Test Error:\n",
            " Accuracy: 48.5%\n",
            " F1 Score: 0.0%\n",
            " Avg loss: 0.649379 \n",
            "\n",
            "Epoch 8\n",
            "-------------------------------\n",
            "loss: 0.637164  [   32/  800]\n",
            "Train Accuracy: 49.6%\n",
            "Train F1 Score: 66.3%\n",
            "Test Error:\n",
            " Accuracy: 48.5%\n",
            " F1 Score: 0.0%\n",
            " Avg loss: 0.645102 \n",
            "\n",
            "Epoch 9\n",
            "-------------------------------\n",
            "loss: 0.674851  [   32/  800]\n",
            "Train Accuracy: 49.6%\n",
            "Train F1 Score: 66.3%\n",
            "Test Error:\n",
            " Accuracy: 49.0%\n",
            " F1 Score: 1.9%\n",
            " Avg loss: 0.640884 \n",
            "\n",
            "Epoch 10\n",
            "-------------------------------\n",
            "loss: 0.631387  [   32/  800]\n",
            "Train Accuracy: 49.6%\n",
            "Train F1 Score: 66.3%\n",
            "Test Error:\n",
            " Accuracy: 51.5%\n",
            " F1 Score: 11.0%\n",
            " Avg loss: 0.636656 \n",
            "\n",
            "Epoch 11\n",
            "-------------------------------\n",
            "loss: 0.632596  [   32/  800]\n",
            "Train Accuracy: 49.6%\n",
            "Train F1 Score: 66.3%\n",
            "Test Error:\n",
            " Accuracy: 59.5%\n",
            " F1 Score: 35.2%\n",
            " Avg loss: 0.632448 \n",
            "\n",
            "Epoch 12\n",
            "-------------------------------\n",
            "loss: 0.604875  [   32/  800]\n",
            "Train Accuracy: 49.6%\n",
            "Train F1 Score: 66.3%\n",
            "Test Error:\n",
            " Accuracy: 65.0%\n",
            " F1 Score: 48.5%\n",
            " Avg loss: 0.628196 \n",
            "\n",
            "Epoch 13\n",
            "-------------------------------\n",
            "loss: 0.612951  [   32/  800]\n",
            "Train Accuracy: 49.6%\n",
            "Train F1 Score: 66.3%\n",
            "Test Error:\n",
            " Accuracy: 69.5%\n",
            " F1 Score: 57.9%\n",
            " Avg loss: 0.623940 \n",
            "\n",
            "Epoch 14\n",
            "-------------------------------\n",
            "loss: 0.590624  [   32/  800]\n",
            "Train Accuracy: 49.6%\n",
            "Train F1 Score: 66.3%\n",
            "Test Error:\n",
            " Accuracy: 72.0%\n",
            " F1 Score: 62.7%\n",
            " Avg loss: 0.619667 \n",
            "\n",
            "Epoch 15\n",
            "-------------------------------\n",
            "loss: 0.619460  [   32/  800]\n",
            "Train Accuracy: 49.6%\n",
            "Train F1 Score: 66.3%\n",
            "Test Error:\n",
            " Accuracy: 73.5%\n",
            " F1 Score: 65.4%\n",
            " Avg loss: 0.615390 \n",
            "\n",
            "Epoch 16\n",
            "-------------------------------\n",
            "loss: 0.615213  [   32/  800]\n",
            "Train Accuracy: 49.6%\n",
            "Train F1 Score: 66.3%\n",
            "Test Error:\n",
            " Accuracy: 76.5%\n",
            " F1 Score: 70.4%\n",
            " Avg loss: 0.611083 \n",
            "\n",
            "Epoch 17\n",
            "-------------------------------\n",
            "loss: 0.624857  [   32/  800]\n",
            "Train Accuracy: 49.6%\n",
            "Train F1 Score: 66.3%\n",
            "Test Error:\n",
            " Accuracy: 78.5%\n",
            " F1 Score: 73.6%\n",
            " Avg loss: 0.606729 \n",
            "\n",
            "Epoch 18\n",
            "-------------------------------\n",
            "loss: 0.595890  [   32/  800]\n",
            "Train Accuracy: 49.6%\n",
            "Train F1 Score: 66.3%\n",
            "Test Error:\n",
            " Accuracy: 80.0%\n",
            " F1 Score: 75.9%\n",
            " Avg loss: 0.602353 \n",
            "\n",
            "Epoch 19\n",
            "-------------------------------\n",
            "loss: 0.583254  [   32/  800]\n",
            "Train Accuracy: 49.6%\n",
            "Train F1 Score: 66.3%\n",
            "Test Error:\n",
            " Accuracy: 81.0%\n",
            " F1 Score: 77.4%\n",
            " Avg loss: 0.597933 \n",
            "\n",
            "Epoch 20\n",
            "-------------------------------\n",
            "loss: 0.589988  [   32/  800]\n",
            "Train Accuracy: 49.6%\n",
            "Train F1 Score: 66.3%\n",
            "Test Error:\n",
            " Accuracy: 84.0%\n",
            " F1 Score: 81.6%\n",
            " Avg loss: 0.593506 \n",
            "\n",
            "Done!\n"
          ]
        }
      ],
      "source": [
        "model = MLP_sigmoid().to(device)\n",
        "loss_fn = nn.BCELoss()\n",
        "optimizer = torch.optim.SGD(model.parameters(), lr=0.01)\n",
        "\n",
        "epochs = 20\n",
        "for t in range(epochs):\n",
        "    print(f\"Epoch {t+1}\\n-------------------------------\")\n",
        "    train(train_dataloader, model, loss_fn, optimizer)\n",
        "    test(test_dataloader, model, loss_fn)\n",
        "print(\"Done!\")"
      ]
    },
    {
      "cell_type": "markdown",
      "metadata": {
        "id": "HfKBJwRB92-a"
      },
      "source": [
        "### BCEWithLogitsLoss"
      ]
    },
    {
      "cell_type": "code",
      "execution_count": 118,
      "metadata": {
        "id": "NNeTEAY992-a",
        "outputId": "25c00e5b-e58e-4f8f-c386-256fc2fa7712",
        "colab": {
          "base_uri": "https://localhost:8080/"
        }
      },
      "outputs": [
        {
          "output_type": "stream",
          "name": "stdout",
          "text": [
            "Epoch 1\n",
            "-------------------------------\n",
            "loss: 0.698068  [   32/  800]\n",
            "Train Accuracy: 60.6%\n",
            "Train F1 Score: 63.7%\n",
            "Test Error:\n",
            " Accuracy: 47.0%\n",
            " F1 Score: 0.0%\n",
            " Avg loss: 0.682806 \n",
            "\n",
            "Epoch 2\n",
            "-------------------------------\n",
            "loss: 0.681813  [   32/  800]\n",
            "Train Accuracy: 61.1%\n",
            "Train F1 Score: 63.1%\n",
            "Test Error:\n",
            " Accuracy: 48.5%\n",
            " F1 Score: 0.0%\n",
            " Avg loss: 0.678942 \n",
            "\n",
            "Epoch 3\n",
            "-------------------------------\n",
            "loss: 0.650200  [   32/  800]\n",
            "Train Accuracy: 61.9%\n",
            "Train F1 Score: 63.5%\n",
            "Test Error:\n",
            " Accuracy: 48.5%\n",
            " F1 Score: 0.0%\n",
            " Avg loss: 0.675318 \n",
            "\n",
            "Epoch 4\n",
            "-------------------------------\n",
            "loss: 0.680116  [   32/  800]\n",
            "Train Accuracy: 62.9%\n",
            "Train F1 Score: 63.3%\n",
            "Test Error:\n",
            " Accuracy: 48.5%\n",
            " F1 Score: 0.0%\n",
            " Avg loss: 0.671896 \n",
            "\n",
            "Epoch 5\n",
            "-------------------------------\n",
            "loss: 0.667139  [   32/  800]\n",
            "Train Accuracy: 64.2%\n",
            "Train F1 Score: 64.2%\n",
            "Test Error:\n",
            " Accuracy: 48.5%\n",
            " F1 Score: 0.0%\n",
            " Avg loss: 0.668601 \n",
            "\n",
            "Epoch 6\n",
            "-------------------------------\n",
            "loss: 0.678819  [   32/  800]\n",
            "Train Accuracy: 64.8%\n",
            "Train F1 Score: 63.8%\n",
            "Test Error:\n",
            " Accuracy: 48.5%\n",
            " F1 Score: 0.0%\n",
            " Avg loss: 0.665411 \n",
            "\n",
            "Epoch 7\n",
            "-------------------------------\n",
            "loss: 0.653339  [   32/  800]\n",
            "Train Accuracy: 65.1%\n",
            "Train F1 Score: 63.3%\n",
            "Test Error:\n",
            " Accuracy: 48.5%\n",
            " F1 Score: 0.0%\n",
            " Avg loss: 0.662294 \n",
            "\n",
            "Epoch 8\n",
            "-------------------------------\n",
            "loss: 0.666380  [   32/  800]\n",
            "Train Accuracy: 65.4%\n",
            "Train F1 Score: 63.0%\n",
            "Test Error:\n",
            " Accuracy: 48.5%\n",
            " F1 Score: 0.0%\n",
            " Avg loss: 0.659220 \n",
            "\n",
            "Epoch 9\n",
            "-------------------------------\n",
            "loss: 0.626214  [   32/  800]\n",
            "Train Accuracy: 65.6%\n",
            "Train F1 Score: 62.8%\n",
            "Test Error:\n",
            " Accuracy: 48.5%\n",
            " F1 Score: 0.0%\n",
            " Avg loss: 0.656186 \n",
            "\n",
            "Epoch 10\n",
            "-------------------------------\n",
            "loss: 0.648206  [   32/  800]\n",
            "Train Accuracy: 66.4%\n",
            "Train F1 Score: 63.2%\n",
            "Test Error:\n",
            " Accuracy: 48.5%\n",
            " F1 Score: 0.0%\n",
            " Avg loss: 0.653168 \n",
            "\n",
            "Epoch 11\n",
            "-------------------------------\n",
            "loss: 0.640238  [   32/  800]\n",
            "Train Accuracy: 66.5%\n",
            "Train F1 Score: 62.5%\n",
            "Test Error:\n",
            " Accuracy: 48.5%\n",
            " F1 Score: 0.0%\n",
            " Avg loss: 0.650151 \n",
            "\n",
            "Epoch 12\n",
            "-------------------------------\n",
            "loss: 0.644832  [   32/  800]\n",
            "Train Accuracy: 66.9%\n",
            "Train F1 Score: 62.7%\n",
            "Test Error:\n",
            " Accuracy: 48.5%\n",
            " F1 Score: 0.0%\n",
            " Avg loss: 0.647134 \n",
            "\n",
            "Epoch 13\n",
            "-------------------------------\n",
            "loss: 0.669434  [   32/  800]\n",
            "Train Accuracy: 66.9%\n",
            "Train F1 Score: 62.6%\n",
            "Test Error:\n",
            " Accuracy: 48.5%\n",
            " F1 Score: 0.0%\n",
            " Avg loss: 0.644127 \n",
            "\n",
            "Epoch 14\n",
            "-------------------------------\n",
            "loss: 0.647398  [   32/  800]\n",
            "Train Accuracy: 66.6%\n",
            "Train F1 Score: 61.5%\n",
            "Test Error:\n",
            " Accuracy: 48.5%\n",
            " F1 Score: 0.0%\n",
            " Avg loss: 0.641106 \n",
            "\n",
            "Epoch 15\n",
            "-------------------------------\n",
            "loss: 0.629434  [   32/  800]\n",
            "Train Accuracy: 67.6%\n",
            "Train F1 Score: 62.8%\n",
            "Test Error:\n",
            " Accuracy: 48.5%\n",
            " F1 Score: 0.0%\n",
            " Avg loss: 0.638079 \n",
            "\n",
            "Epoch 16\n",
            "-------------------------------\n",
            "loss: 0.620275  [   32/  800]\n",
            "Train Accuracy: 68.6%\n",
            "Train F1 Score: 64.0%\n",
            "Test Error:\n",
            " Accuracy: 48.5%\n",
            " F1 Score: 0.0%\n",
            " Avg loss: 0.635047 \n",
            "\n",
            "Epoch 17\n",
            "-------------------------------\n",
            "loss: 0.629557  [   32/  800]\n",
            "Train Accuracy: 69.2%\n",
            "Train F1 Score: 64.9%\n",
            "Test Error:\n",
            " Accuracy: 48.5%\n",
            " F1 Score: 0.0%\n",
            " Avg loss: 0.632000 \n",
            "\n",
            "Epoch 18\n",
            "-------------------------------\n",
            "loss: 0.613253  [   32/  800]\n",
            "Train Accuracy: 70.2%\n",
            "Train F1 Score: 66.0%\n",
            "Test Error:\n",
            " Accuracy: 48.5%\n",
            " F1 Score: 0.0%\n",
            " Avg loss: 0.628932 \n",
            "\n",
            "Epoch 19\n",
            "-------------------------------\n",
            "loss: 0.608978  [   32/  800]\n",
            "Train Accuracy: 70.5%\n",
            "Train F1 Score: 65.8%\n",
            "Test Error:\n",
            " Accuracy: 48.5%\n",
            " F1 Score: 0.0%\n",
            " Avg loss: 0.625828 \n",
            "\n",
            "Epoch 20\n",
            "-------------------------------\n",
            "loss: 0.636897  [   32/  800]\n",
            "Train Accuracy: 72.9%\n",
            "Train F1 Score: 69.3%\n",
            "Test Error:\n",
            " Accuracy: 48.5%\n",
            " F1 Score: 0.0%\n",
            " Avg loss: 0.622699 \n",
            "\n",
            "Done!\n"
          ]
        }
      ],
      "source": [
        "class MLP_logits(nn.Module):\n",
        "    def __init__(self):\n",
        "        super(MLP_logits, self).__init__()\n",
        "        self.model = nn.Sequential(\n",
        "            nn.Linear(2, 8),\n",
        "            nn.ReLU(),\n",
        "            nn.Linear(8, 1)\n",
        "        )\n",
        "\n",
        "    def forward(self, x):\n",
        "        return self.model(x)\n",
        "\n",
        "model2 = MLP_logits().to(device)\n",
        "loss_fn2 = nn.BCEWithLogitsLoss()\n",
        "optimizer2 = torch.optim.SGD(model2.parameters(), lr=0.01)\n",
        "\n",
        "epochs = 20\n",
        "for t in range(epochs):\n",
        "    print(f\"Epoch {t+1}\\n-------------------------------\")\n",
        "    train(train_dataloader, model2, loss_fn2, optimizer2)\n",
        "    test(test_dataloader, model2, loss_fn2)\n",
        "print(\"Done!\")"
      ]
    },
    {
      "cell_type": "markdown",
      "source": [
        "# More layers!"
      ],
      "metadata": {
        "id": "Z1Ls8S-FJI0i"
      }
    },
    {
      "cell_type": "code",
      "source": [
        "class MLP_logits(nn.Module):\n",
        "    def __init__(self):\n",
        "        super(MLP_logits, self).__init__()\n",
        "        self.model = nn.Sequential(\n",
        "            nn.Linear(2, 32),\n",
        "            nn.ReLU(),\n",
        "            nn.Linear(32, 32),\n",
        "            nn.ReLU(),\n",
        "            nn.Linear(32, 1)\n",
        "        )\n",
        "\n",
        "    def forward(self, x):\n",
        "        return self.model(x)"
      ],
      "metadata": {
        "id": "sV884MT8JHtE"
      },
      "execution_count": 119,
      "outputs": []
    },
    {
      "cell_type": "code",
      "source": [
        "model3 = MLP_logits().to(device)\n",
        "loss_fn3 = nn.BCEWithLogitsLoss()\n",
        "optimizer3 = torch.optim.Adam(model3.parameters(), lr=0.05)\n",
        "\n",
        "import sys\n",
        "epochs = 20\n",
        "for t in range(epochs):\n",
        "    sys.stdout.write(f\"Epoch {t+1}\\n-------------------------------\")\n",
        "    sys.stdout.flush()\n",
        "    train(train_dataloader, model3, loss_fn3, optimizer3)\n",
        "    test(test_dataloader, model3, loss_fn3)\n",
        "print(\"Done!\")"
      ],
      "metadata": {
        "colab": {
          "base_uri": "https://localhost:8080/"
        },
        "id": "pjZeE86WJQcE",
        "outputId": "d5ecb661-f6f5-4513-d36e-2e9ab162904c"
      },
      "execution_count": 121,
      "outputs": [
        {
          "output_type": "stream",
          "name": "stdout",
          "text": [
            "Epoch 1\n",
            "-------------------------------loss: 0.710563  [   32/  800]\n",
            "Train Accuracy: 90.9%\n",
            "Train F1 Score: 90.3%\n",
            "Test Error:\n",
            " Accuracy: 98.5%\n",
            " F1 Score: 98.5%\n",
            " Avg loss: 0.036434 \n",
            "\n",
            "Epoch 2\n",
            "-------------------------------loss: 0.419070  [   32/  800]\n",
            "Train Accuracy: 98.4%\n",
            "Train F1 Score: 98.4%\n",
            "Test Error:\n",
            " Accuracy: 94.5%\n",
            " F1 Score: 94.6%\n",
            " Avg loss: 0.223406 \n",
            "\n",
            "Epoch 3\n",
            "-------------------------------loss: 0.109332  [   32/  800]\n",
            "Train Accuracy: 97.8%\n",
            "Train F1 Score: 97.7%\n",
            "Test Error:\n",
            " Accuracy: 97.5%\n",
            " F1 Score: 97.5%\n",
            " Avg loss: 0.065915 \n",
            "\n",
            "Epoch 4\n",
            "-------------------------------loss: 0.135005  [   32/  800]\n",
            "Train Accuracy: 98.8%\n",
            "Train F1 Score: 98.7%\n",
            "Test Error:\n",
            " Accuracy: 98.5%\n",
            " F1 Score: 98.5%\n",
            " Avg loss: 0.021786 \n",
            "\n",
            "Epoch 5\n",
            "-------------------------------loss: 0.001763  [   32/  800]\n",
            "Train Accuracy: 99.5%\n",
            "Train F1 Score: 99.5%\n",
            "Test Error:\n",
            " Accuracy: 100.0%\n",
            " F1 Score: 100.0%\n",
            " Avg loss: 0.004379 \n",
            "\n",
            "Epoch 6\n",
            "-------------------------------loss: 0.022905  [   32/  800]\n",
            "Train Accuracy: 99.4%\n",
            "Train F1 Score: 99.4%\n",
            "Test Error:\n",
            " Accuracy: 97.0%\n",
            " F1 Score: 97.0%\n",
            " Avg loss: 0.049205 \n",
            "\n",
            "Epoch 7\n",
            "-------------------------------loss: 0.053661  [   32/  800]\n",
            "Train Accuracy: 99.4%\n",
            "Train F1 Score: 99.4%\n",
            "Test Error:\n",
            " Accuracy: 97.0%\n",
            " F1 Score: 97.0%\n",
            " Avg loss: 0.104805 \n",
            "\n",
            "Epoch 8\n",
            "-------------------------------loss: 0.116492  [   32/  800]\n",
            "Train Accuracy: 98.9%\n",
            "Train F1 Score: 98.9%\n",
            "Test Error:\n",
            " Accuracy: 97.5%\n",
            " F1 Score: 97.5%\n",
            " Avg loss: 0.073703 \n",
            "\n",
            "Epoch 9\n",
            "-------------------------------loss: 0.015089  [   32/  800]\n",
            "Train Accuracy: 99.2%\n",
            "Train F1 Score: 99.2%\n",
            "Test Error:\n",
            " Accuracy: 97.0%\n",
            " F1 Score: 97.0%\n",
            " Avg loss: 0.102103 \n",
            "\n",
            "Epoch 10\n",
            "-------------------------------loss: 0.002998  [   32/  800]\n",
            "Train Accuracy: 99.0%\n",
            "Train F1 Score: 99.0%\n",
            "Test Error:\n",
            " Accuracy: 98.0%\n",
            " F1 Score: 98.0%\n",
            " Avg loss: 0.035320 \n",
            "\n",
            "Epoch 11\n",
            "-------------------------------loss: 0.062622  [   32/  800]\n",
            "Train Accuracy: 99.1%\n",
            "Train F1 Score: 99.1%\n",
            "Test Error:\n",
            " Accuracy: 96.5%\n",
            " F1 Score: 96.5%\n",
            " Avg loss: 0.108403 \n",
            "\n",
            "Epoch 12\n",
            "-------------------------------loss: 0.009984  [   32/  800]\n",
            "Train Accuracy: 99.2%\n",
            "Train F1 Score: 99.2%\n",
            "Test Error:\n",
            " Accuracy: 98.5%\n",
            " F1 Score: 98.5%\n",
            " Avg loss: 0.037406 \n",
            "\n",
            "Epoch 13\n",
            "-------------------------------loss: 0.000452  [   32/  800]\n",
            "Train Accuracy: 98.9%\n",
            "Train F1 Score: 98.9%\n",
            "Test Error:\n",
            " Accuracy: 99.5%\n",
            " F1 Score: 99.5%\n",
            " Avg loss: 0.031957 \n",
            "\n",
            "Epoch 14\n",
            "-------------------------------loss: 0.006954  [   32/  800]\n",
            "Train Accuracy: 99.5%\n",
            "Train F1 Score: 99.5%\n",
            "Test Error:\n",
            " Accuracy: 98.5%\n",
            " F1 Score: 98.5%\n",
            " Avg loss: 0.029611 \n",
            "\n",
            "Epoch 15\n",
            "-------------------------------loss: 0.002907  [   32/  800]\n",
            "Train Accuracy: 99.5%\n",
            "Train F1 Score: 99.5%\n",
            "Test Error:\n",
            " Accuracy: 98.0%\n",
            " F1 Score: 98.0%\n",
            " Avg loss: 0.080488 \n",
            "\n",
            "Epoch 16\n",
            "-------------------------------loss: 0.003033  [   32/  800]\n",
            "Train Accuracy: 99.1%\n",
            "Train F1 Score: 99.1%\n",
            "Test Error:\n",
            " Accuracy: 98.5%\n",
            " F1 Score: 98.5%\n",
            " Avg loss: 0.020739 \n",
            "\n",
            "Epoch 17\n",
            "-------------------------------loss: 0.001629  [   32/  800]\n",
            "Train Accuracy: 99.0%\n",
            "Train F1 Score: 99.0%\n",
            "Test Error:\n",
            " Accuracy: 100.0%\n",
            " F1 Score: 100.0%\n",
            " Avg loss: 0.011060 \n",
            "\n",
            "Epoch 18\n",
            "-------------------------------loss: 0.003752  [   32/  800]\n",
            "Train Accuracy: 98.6%\n",
            "Train F1 Score: 98.6%\n",
            "Test Error:\n",
            " Accuracy: 99.5%\n",
            " F1 Score: 99.5%\n",
            " Avg loss: 0.028326 \n",
            "\n",
            "Epoch 19\n",
            "-------------------------------loss: 0.070936  [   32/  800]\n",
            "Train Accuracy: 99.4%\n",
            "Train F1 Score: 99.4%\n",
            "Test Error:\n",
            " Accuracy: 98.5%\n",
            " F1 Score: 98.5%\n",
            " Avg loss: 0.032861 \n",
            "\n",
            "Epoch 20\n",
            "-------------------------------loss: 0.000390  [   32/  800]\n",
            "Train Accuracy: 99.6%\n",
            "Train F1 Score: 99.6%\n",
            "Test Error:\n",
            " Accuracy: 99.0%\n",
            " F1 Score: 99.0%\n",
            " Avg loss: 0.011816 \n",
            "\n",
            "Done!\n"
          ]
        }
      ]
    }
  ],
  "metadata": {
    "kernelspec": {
      "display_name": "d2l",
      "language": "python",
      "name": "python3"
    },
    "language_info": {
      "codemirror_mode": {
        "name": "ipython",
        "version": 3
      },
      "file_extension": ".py",
      "mimetype": "text/x-python",
      "name": "python",
      "nbconvert_exporter": "python",
      "pygments_lexer": "ipython3",
      "version": "3.9.21"
    },
    "orig_nbformat": 4,
    "colab": {
      "provenance": []
    }
  },
  "nbformat": 4,
  "nbformat_minor": 0
}